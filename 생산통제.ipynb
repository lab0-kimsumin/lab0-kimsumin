{
  "nbformat": 4,
  "nbformat_minor": 0,
  "metadata": {
    "colab": {
      "name": "생산통제",
      "private_outputs": true,
      "provenance": [],
      "authorship_tag": "ABX9TyM0anuOZydnG3TcoA8Hem1Q",
      "include_colab_link": true
    },
    "kernelspec": {
      "name": "python3",
      "display_name": "Python 3"
    },
    "language_info": {
      "name": "python"
    }
  },
  "cells": [
    {
      "cell_type": "markdown",
      "metadata": {
        "id": "view-in-github",
        "colab_type": "text"
      },
      "source": [
        "<a href=\"https://colab.research.google.com/github/lab0-kimsumin/lab0-kimsumin/blob/main/%EC%83%9D%EC%82%B0%ED%86%B5%EC%A0%9C.ipynb\" target=\"_parent\"><img src=\"https://colab.research.google.com/assets/colab-badge.svg\" alt=\"Open In Colab\"/></a>"
      ]
    },
    {
      "cell_type": "markdown",
      "source": [
        "##생산통제_기말과제_202001304_김수민"
      ],
      "metadata": {
        "id": "vF5R283GLHGW"
      }
    },
    {
      "cell_type": "markdown",
      "source": [
        "####생산능력(용량)계획"
      ],
      "metadata": {
        "id": "TbkEfv1XLbhn"
      }
    },
    {
      "cell_type": "code",
      "execution_count": null,
      "metadata": {
        "id": "h8IFnOWJLBFa"
      },
      "outputs": [],
      "source": [
        "# 생산능력 계획에서의 각 요소 정의\n",
        "x = 'Time' # x = \"소요시간\"\n",
        "y = 'The number of ManPower' # y = \"인력/설비\"\n",
        "z = 'Process' # z = \"공정\"\n",
        "c = 'Capacity' # c = \"용량\"\n",
        "d = 'Demand' # d = \"수요량\"\n",
        "t = 'Total capacity' # t = \"전체 용량\"\n",
        "f = \"Flow Rate\" # f = \"흐름율\"\n",
        "o = \"The rate of Operation\" # o = \"가동률\"\n"
      ]
    },
    {
      "cell_type": "code",
      "source": [
        "# n의 정의와 y(인력/설비)와 n사이의 관계 정의\n",
        "n = 'Man power' # n은 인력/설비를 나타냄\n",
        "n = [\"철수\",\"영희\"] # n = [\"철수\", \"영희\"]일 때\n",
        "y = len(n) # y = 인력의 명(수)를 나타냄 --> \"철수\",\"영희\" = 2(명)\n",
        "print(y)\n"
      ],
      "metadata": {
        "id": "KAPomXOBcpH3"
      },
      "execution_count": null,
      "outputs": []
    },
    {
      "cell_type": "code",
      "source": [
        "# 용량(capacity)를 시간(x)와 인력/설비(y)의 수에 관하여 정의함. --> 정의함수 def 사용\n",
        "def c(x,y): \n",
        "  return (y*60)/x"
      ],
      "metadata": {
        "id": "QgMYtMovLQnJ"
      },
      "execution_count": null,
      "outputs": []
    },
    {
      "cell_type": "code",
      "source": [
        "c(12,y)  #예시) --> 소요시간(x):12분 , 인력/설비의 수(y):2개(명)일 때 용량(capacity)는 (2*60)/12"
      ],
      "metadata": {
        "id": "KwCDgkmzLQkZ"
      },
      "execution_count": null,
      "outputs": []
    },
    {
      "cell_type": "markdown",
      "source": [
        "#### 앞의 알고리즘을 이용한 용량 계산"
      ],
      "metadata": {
        "id": "qKsJxp_IoozQ"
      }
    },
    {
      "cell_type": "code",
      "source": [
        "input_data =  int(input(\"소요시간(x)을 입력하세요:\")) # input을 통하여 공정의 소요시간(x)을 입력함\n",
        "input_n = input(\"공백을 구분자로 인력/설비를 입력하세요:\").split()   # input을 통하여 인력/설비(n)을 입력함\n",
        "y = len(input_n)  # y('The number of ManPower(n)')를 len을 통해 입력한 인력/설비(n)의 개수로 지정함\n",
        "result = (y*60)/input_data # 결과값 (result)를 y(입력/설비의 개수)와 소요시간(x)의 관계식으로 정의함 --> 용량 : (인력/설비의 개(명)수 * 60/ 소요시간)\n",
        "print(\"용량=\",result)  # print를 통해 결과값을 추출함"
      ],
      "metadata": {
        "id": "6pFqzIjaLQe8"
      },
      "execution_count": null,
      "outputs": []
    },
    {
      "cell_type": "markdown",
      "source": [
        "#### 용량을 이용한 전체 용량 및 흐름율 계산"
      ],
      "metadata": {
        "id": "3pyw-oAzK0v0"
      }
    },
    {
      "cell_type": "code",
      "source": [
        "input_c = [int(c) for c in input(\"공백을 구분자로 용량(c)을 입력하세요:\").split()] # input을 이용해 위의 알고리즘을 이용해 계산한 용량을 공백을 구분자로 기입함\n",
        "t = min(input_c) # t(Total Capacity)를 기입한 용량(c) 중에서 min함수를 이용해 가장 작은 값은 선택하는 것으로 정의함\n",
        "print(\"전체 용량=\",t) # print를 이용하여 전체용량(t)를 추출함\n",
        "\n",
        "input_d = int(input(\"수요량을 입력하세요:\")) # input을 통하여 수요량(d)를 기입하도록 함\n",
        "f = min(t, input_d) # 흐름율(f)를 전체용량(t)와 수요량(d)중에서 더 작은 값을 고르도록 min함수를 이용함\n",
        "print(\"흐름율 =\",f) #print를 이용하여 흐름율(f)를 추출함\n",
        "\n",
        "if (t<input_d):\n",
        "  print(\"공급량에 의한 흐름제약\")   # 조건문 if를 이용하여 전체용량(t)< 입력한 수요량(d)일 경우에 \"공급량에 의한 흐름제약\"이라는 문장을 출력하도록 함\n",
        "else:\n",
        "  print(\"수요량에 의한 흐름제약\")  # 그렇지 않으면 \"수요량에 의한 흐름제약\"이라는 문장을 출력함"
      ],
      "metadata": {
        "id": "fei8WvoeLQWc"
      },
      "execution_count": null,
      "outputs": []
    },
    {
      "cell_type": "markdown",
      "source": [
        "#### 가동률과 여유용량"
      ],
      "metadata": {
        "id": "zpa98yIBTIvo"
      }
    },
    {
      "cell_type": "code",
      "source": [
        "rate_of_operation = 100*(f/t) # 가동률(rate of operation)을 흐름율(f)/전체용량(t)로 정의하고 이것dp 100을 곱하여 %로 나타냄\n",
        "print(\"해당 공정의 가동률은\",rate_of_operation,\"%입니다.\") # print를 이용하여 해당 공정의 가동률을 추출함\n",
        "\n",
        "free_capacity = 100-rate_of_operation # 여유용량(free capacity)를 100%-가동률로 나타냄\n",
        "print(\"해당 공정의 여유용량은\",free_capacity,\"%입니다.\") # print를 이용하여 해당공정의 여유용량을 추출함\n",
        "\n"
      ],
      "metadata": {
        "id": "7eP7giHjLQTo"
      },
      "execution_count": null,
      "outputs": []
    },
    {
      "cell_type": "code",
      "source": [
        ""
      ],
      "metadata": {
        "id": "CJ6XYa-QLQRB"
      },
      "execution_count": null,
      "outputs": []
    },
    {
      "cell_type": "code",
      "source": [
        ""
      ],
      "metadata": {
        "id": "k0ac43qwLQOl"
      },
      "execution_count": null,
      "outputs": []
    },
    {
      "cell_type": "code",
      "source": [
        ""
      ],
      "metadata": {
        "id": "3VooN9iKLQMP"
      },
      "execution_count": null,
      "outputs": []
    },
    {
      "cell_type": "code",
      "source": [
        ""
      ],
      "metadata": {
        "id": "91s0MCNYLQJS"
      },
      "execution_count": null,
      "outputs": []
    }
  ]
}