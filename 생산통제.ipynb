{
  "nbformat": 4,
  "nbformat_minor": 0,
  "metadata": {
    "colab": {
      "name": "생산통제",
      "private_outputs": true,
      "provenance": [],
      "authorship_tag": "ABX9TyPDwhFrs1hocz0XliaIGnzJ",
      "include_colab_link": true
    },
    "kernelspec": {
      "name": "python3",
      "display_name": "Python 3"
    },
    "language_info": {
      "name": "python"
    }
  },
  "cells": [
    {
      "cell_type": "markdown",
      "metadata": {
        "id": "view-in-github",
        "colab_type": "text"
      },
      "source": [
        "<a href=\"https://colab.research.google.com/github/lab0-kimsumin/lab0-kimsumin/blob/main/%EC%83%9D%EC%82%B0%ED%86%B5%EC%A0%9C.ipynb\" target=\"_parent\"><img src=\"https://colab.research.google.com/assets/colab-badge.svg\" alt=\"Open In Colab\"/></a>"
      ]
    },
    {
      "cell_type": "markdown",
      "source": [
        "##생산통제_기말과제_202001304_김수민"
      ],
      "metadata": {
        "id": "vF5R283GLHGW"
      }
    },
    {
      "cell_type": "markdown",
      "source": [
        "####생산능력(용량)계획"
      ],
      "metadata": {
        "id": "TbkEfv1XLbhn"
      }
    },
    {
      "cell_type": "code",
      "execution_count": null,
      "metadata": {
        "id": "h8IFnOWJLBFa"
      },
      "outputs": [],
      "source": [
        "# 생산능력 계획에서의 각 요소 정의\n",
        "x = 'Time' # x = \"소요시간\"\n",
        "y = 'The number of ManPower' # y = \"인력/설비\"\n",
        "z = 'Process' # z = \"공정\"\n",
        "c = 'Capacity' # c = \"용량\"\n",
        "d = 'Demand' # d = \"수요량\"\n",
        "t = 'Total capacity' # t = \"전체 용량\"\n",
        "f = \"Flow Rate\" # f = \"흐름율\""
      ]
    },
    {
      "cell_type": "code",
      "source": [
        "# n의 정의와 y(인력/설비)와 n사이의 관계 정의\n",
        "n = 'Man power' # n은 인력/설비를 나타냄\n",
        "n = [\"철수\",\"영희\"] # n = [\"철수\", \"영희\"]일 때\n",
        "y = len(n) # y = 인력의 명(수)를 나타냄 --> \"철수\",\"영희\" = 2(명)\n",
        "print(y)\n"
      ],
      "metadata": {
        "id": "KAPomXOBcpH3"
      },
      "execution_count": null,
      "outputs": []
    },
    {
      "cell_type": "code",
      "source": [
        "# 용량(capacity)를 시간(x)와 인력/설비(y)의 수에 관하여 정의함. --> 정의함수 def 사용\n",
        "def c(x,y): \n",
        "  return (y*60)/x"
      ],
      "metadata": {
        "id": "QgMYtMovLQnJ"
      },
      "execution_count": null,
      "outputs": []
    },
    {
      "cell_type": "code",
      "source": [
        "c(12,y)  #예시) --> 소요시간(x):12분 , 인력/설비의 수(y):2개(명)일 때 용량(capacity)는 (2*60)/12"
      ],
      "metadata": {
        "id": "KwCDgkmzLQkZ"
      },
      "execution_count": null,
      "outputs": []
    },
    {
      "cell_type": "markdown",
      "source": [
        "#### 공정의 개수가 3개일 때, 생산능력 계획"
      ],
      "metadata": {
        "id": "qKsJxp_IoozQ"
      }
    },
    {
      "cell_type": "code",
      "source": [
        "z1 = \"공정1\"\n",
        "n1 = [\"철수\",\"영희\"]\n",
        "z2 = \"공정2\"\n",
        "n2 = [\"유진\"]\n",
        "z3 = \"공정3\"\n",
        "n3 = [\"오븐1\",\"오븐2\"]"
      ],
      "metadata": {
        "id": "n6ex6wGBLQhx"
      },
      "execution_count": null,
      "outputs": []
    },
    {
      "cell_type": "code",
      "source": [
        ""
      ],
      "metadata": {
        "id": "6pFqzIjaLQe8"
      },
      "execution_count": null,
      "outputs": []
    },
    {
      "cell_type": "code",
      "source": [
        ""
      ],
      "metadata": {
        "id": "C1fP-ALILQbo"
      },
      "execution_count": null,
      "outputs": []
    },
    {
      "cell_type": "code",
      "source": [
        ""
      ],
      "metadata": {
        "id": "hp12ns4SLQYi"
      },
      "execution_count": null,
      "outputs": []
    },
    {
      "cell_type": "code",
      "source": [
        ""
      ],
      "metadata": {
        "id": "fei8WvoeLQWc"
      },
      "execution_count": null,
      "outputs": []
    },
    {
      "cell_type": "code",
      "source": [
        ""
      ],
      "metadata": {
        "id": "7eP7giHjLQTo"
      },
      "execution_count": null,
      "outputs": []
    },
    {
      "cell_type": "code",
      "source": [
        ""
      ],
      "metadata": {
        "id": "CJ6XYa-QLQRB"
      },
      "execution_count": null,
      "outputs": []
    },
    {
      "cell_type": "code",
      "source": [
        ""
      ],
      "metadata": {
        "id": "k0ac43qwLQOl"
      },
      "execution_count": null,
      "outputs": []
    },
    {
      "cell_type": "code",
      "source": [
        ""
      ],
      "metadata": {
        "id": "3VooN9iKLQMP"
      },
      "execution_count": null,
      "outputs": []
    },
    {
      "cell_type": "code",
      "source": [
        ""
      ],
      "metadata": {
        "id": "91s0MCNYLQJS"
      },
      "execution_count": null,
      "outputs": []
    }
  ]
}